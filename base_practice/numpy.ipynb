{
 "metadata": {
  "language_info": {
   "codemirror_mode": {
    "name": "ipython",
    "version": 3
   },
   "file_extension": ".py",
   "mimetype": "text/x-python",
   "name": "python",
   "nbconvert_exporter": "python",
   "pygments_lexer": "ipython3",
   "version": "3.7.6-final"
  },
  "orig_nbformat": 2,
  "kernelspec": {
   "name": "python37664bitvenvvenv03550606637a44f1843553483457f8bd",
   "display_name": "Python 3.7.6 64-bit ('venv': venv)"
  }
 },
 "nbformat": 4,
 "nbformat_minor": 2,
 "cells": [
  {
   "cell_type": "code",
   "execution_count": 1,
   "metadata": {},
   "outputs": [],
   "source": [
    "import numpy as np"
   ]
  },
  {
   "cell_type": "code",
   "execution_count": 2,
   "metadata": {
    "tags": []
   },
   "outputs": [
    {
     "output_type": "stream",
     "name": "stdout",
     "text": "List:  [1, 2, 3] [1, 2, 3]\nndarray:  [4 5 6] [4 5 6]\n"
    }
   ],
   "source": [
    "# list型とndarray型は参照渡し。\n",
    "a = [1, 2, 3]\n",
    "b = a\n",
    "\n",
    "a_ary = np.array([4, 5, 6])\n",
    "b_ary = a_ary\n",
    "print(\"List: \", a, b)\n",
    "print(\"ndarray: \", a_ary, b_ary)"
   ]
  },
  {
   "cell_type": "code",
   "execution_count": 3,
   "metadata": {
    "tags": []
   },
   "outputs": [
    {
     "output_type": "stream",
     "name": "stdout",
     "text": "List:  [5, 2, 3] [5, 2, 3]\nndarray:  [9 5 6] [9 5 6]\n"
    }
   ],
   "source": [
    "a[0] = 5\n",
    "a_ary[0] = 9\n",
    "print(\"List: \", a, b)\n",
    "print(\"ndarray: \", a_ary, b_ary)"
   ]
  },
  {
   "cell_type": "code",
   "execution_count": 4,
   "metadata": {
    "tags": []
   },
   "outputs": [
    {
     "output_type": "stream",
     "name": "stdout",
     "text": "List:  [5, 2, 3] [1, 2, 3]\nndarray:  [9, 5, 6] [4, 5, 6]\n"
    }
   ],
   "source": [
    "# コピーするには.copy()関数を用いる\n",
    "a = [1, 2, 3]\n",
    "b = a.copy()\n",
    "\n",
    "a_ary = [4, 5, 6]\n",
    "b_ary = a_ary.copy()\n",
    "\n",
    "a[0] = 5\n",
    "a_ary[0] = 9\n",
    "print(\"List: \", a, b)\n",
    "print(\"ndarray: \", a_ary, b_ary)"
   ]
  },
  {
   "cell_type": "code",
   "execution_count": 5,
   "metadata": {
    "tags": []
   },
   "outputs": [
    {
     "output_type": "stream",
     "name": "stdout",
     "text": "[0 1 2 3 4 5 6 7 8 9]\n[ 5  6  7  8  9 10]\n"
    }
   ],
   "source": [
    "# 連続したベクトルの生成\n",
    "print(np.arange(10))\n",
    "print(np.arange(5, 11))"
   ]
  },
  {
   "cell_type": "code",
   "execution_count": 6,
   "metadata": {
    "tags": []
   },
   "outputs": [
    {
     "output_type": "stream",
     "name": "stdout",
     "text": "[[1 2 3]\n [4 5 6]]\n6\nx.shape: (2, 3)\n"
    }
   ],
   "source": [
    "# 行列の定義\n",
    "x = np.array([[1, 2, 3],\n",
    "              [4, 5, 6]])\n",
    "print(x)\n",
    "print(x[1, 2])\n",
    "print(f\"x.shape: {x.shape}\") # 2行3列の行列"
   ]
  },
  {
   "cell_type": "code",
   "execution_count": 7,
   "metadata": {
    "tags": []
   },
   "outputs": [
    {
     "output_type": "stream",
     "name": "stdout",
     "text": "x.shape: 2, 3\n"
    }
   ],
   "source": [
    "# 行と列を個別に変数に格納できる\n",
    "row, col = x.shape\n",
    "print(f\"x.shape: {row}, {col}\")"
   ]
  },
  {
   "cell_type": "code",
   "execution_count": 8,
   "metadata": {
    "tags": []
   },
   "outputs": [
    {
     "output_type": "stream",
     "name": "stdout",
     "text": "[0. 0. 0. 0. 0. 0. 0. 0. 0. 0.]\n"
    }
   ],
   "source": [
    "# 要素が0や1のndarray\n",
    "zeros = np.zeros(10)\n",
    "print(zeros)"
   ]
  },
  {
   "cell_type": "code",
   "execution_count": 9,
   "metadata": {
    "tags": []
   },
   "outputs": [
    {
     "output_type": "stream",
     "name": "stdout",
     "text": "[[1. 1. 1. 1. 1.]\n [1. 1. 1. 1. 1.]]\n"
    }
   ],
   "source": [
    "ones = np.ones((2, 5))\n",
    "print(ones)"
   ]
  },
  {
   "cell_type": "code",
   "execution_count": 10,
   "metadata": {},
   "outputs": [
    {
     "output_type": "execute_result",
     "data": {
      "text/plain": "array([[0.22848624, 0.93351156, 0.24425389],\n       [0.10102515, 0.23574441, 0.61195353]])"
     },
     "metadata": {},
     "execution_count": 10
    }
   ],
   "source": [
    "# 要素がランダムな行列の生成 0~1の一様分布から生成した行列。\n",
    "np.random.rand(2, 3)"
   ]
  },
  {
   "cell_type": "code",
   "execution_count": 11,
   "metadata": {},
   "outputs": [
    {
     "output_type": "execute_result",
     "data": {
      "text/plain": "array([[0.79817908, 0.59497586, 0.50907336],\n       [0.67450456, 0.28013384, 0.70440897]])"
     },
     "metadata": {},
     "execution_count": 11
    }
   ],
   "source": [
    "# *[], *()などで配列・タプルを展開して引数に渡せる\n",
    "np.random.rand(*(2, 3))"
   ]
  },
  {
   "cell_type": "code",
   "execution_count": 12,
   "metadata": {
    "tags": []
   },
   "outputs": [
    {
     "output_type": "stream",
     "name": "stdout",
     "text": "[ 1.0147614   0.48513236 -0.23517599  0.68001515  1.89658136]\n[[3 6]\n [2 2]]\n"
    }
   ],
   "source": [
    "# 平均0, 分散1のガウス分布\n",
    "print(np.random.randn(5))\n",
    "# 2から6までのランダムな整数値からなる2 * 2の行列\n",
    "print(np.random.randint(2, 7, (2, 2)))"
   ]
  },
  {
   "cell_type": "code",
   "execution_count": 13,
   "metadata": {
    "tags": []
   },
   "outputs": [
    {
     "output_type": "stream",
     "name": "stdout",
     "text": "[[ 1.74129064 -1.63346339  0.91185073  0.96980693 -1.34694099]\n [ 0.85187411  0.64576227  0.43058427 -0.10066652 -0.67786263]]\n[[51.32482024 48.34316629 50.00657522 49.06126348 50.68376819]\n [55.05758586 48.57687564 52.56502588 49.62564755 50.58219213]]\n[[ 1.37009296 -0.31211688 -0.53689961  1.18144453  1.59737152]\n [ 0.63857974  0.19098574  1.64688599 -0.49226605  0.28822295]]\n"
    }
   ],
   "source": [
    "# 標準分布の出し方は2つある\n",
    "# randn: 平均0, 分散1のガウス分布 2行5列\n",
    "print(np.random.randn(2, 5))\n",
    "# normal: 任意の平均(50)、標準偏差(2) 2行5列\n",
    "print(np.random.normal(50, 2, (2, 5)))\n",
    "# normal: 平均0, 標準偏差1, 2行5列\n",
    "print(np.random.normal(size=(2, 5)))"
   ]
  },
  {
   "cell_type": "code",
   "execution_count": 14,
   "metadata": {
    "tags": []
   },
   "outputs": [
    {
     "output_type": "stream",
     "name": "stdout",
     "text": "[[ 2.23584152 -0.7895064  -0.26740435 -0.0228999   0.82724836]\n [-0.13875128  2.28348796  0.39977891  0.33764943  1.57324922]]\n普通に行ごとにソート:\n[[-0.7895064  -0.26740435 -0.0228999   0.82724836  2.23584152]\n [-0.13875128  0.33764943  0.39977891  1.57324922  2.28348796]]\nargsort 行ごとにソート:\n[[1 2 3 4 0]\n [0 3 2 4 1]]\nargsort 列ごとにソート:\n[[1 0 0 0 0]\n [0 1 1 1 1]]\nA:\n[[-0.96195632  0.04413108 -0.82185381 -1.65307578  1.42096116]\n [ 1.41723261 -0.41440911  0.5166565   1.68685652 -0.78740817]\n [ 0.82143478 -0.82506259  0.46164419  1.45875371 -0.46651467]\n [ 0.5217896  -0.28318206 -0.39680371 -0.65853426  0.18606447]\n [-0.92592447 -2.00932619 -0.26899343  1.17737674 -0.32689958]\n [-0.90859864 -0.01649446 -0.06528711  0.44718734  1.86489787]\n [ 1.57463898  0.84732246  1.67973216 -1.01913568 -0.78538335]\n [-0.42556079  0.21136288 -1.41067893  0.42227283 -0.53443289]\n [-0.38842102 -1.75340886  0.46577579  1.44355478  0.89722971]\n [ 0.25786544  0.20587097  0.19454716  0.92336181 -0.16693919]\n [-0.61790429  1.31444445 -0.56087867 -0.48127062  1.09391289]\n [ 0.65606591 -0.60047914 -1.27269156  0.63401135  1.23032728]\n [-0.64803172  0.09815658  0.87739436  0.68656755  0.0926491 ]\n [-0.26698622  0.65782121 -0.2955302  -0.05783826  0.29141204]\n [ 0.97338747  1.25391216 -0.82524442  1.36828334 -0.14422795]\n [ 0.45916923  2.60114952  0.66633985 -1.88241413  2.09769491]\n [ 0.31761404 -0.12153167 -0.45373165 -0.51448391  0.16185902]\n [-2.21508078 -0.60816955  0.05115197  0.23442423  1.18095328]\n [ 0.19533388 -0.18613611  0.42858171  0.09253778 -0.29080987]\n [-0.34288453  0.35390732 -0.34368584  0.73936179 -0.61732779]]\ninds:\n[ 6 12 15  1  8  2 18  9 17  5  4 13 19  3 16 10  0 14 11  7]\nsorted by col=2\n[ 1.57463898  0.84732246  1.67973216 -1.01913568 -0.78538335]\n[-0.64803172  0.09815658  0.87739436  0.68656755  0.0926491 ]\n[ 0.45916923  2.60114952  0.66633985 -1.88241413  2.09769491]\n[ 1.41723261 -0.41440911  0.5166565   1.68685652 -0.78740817]\n[-0.38842102 -1.75340886  0.46577579  1.44355478  0.89722971]\n[ 0.82143478 -0.82506259  0.46164419  1.45875371 -0.46651467]\n[ 0.19533388 -0.18613611  0.42858171  0.09253778 -0.29080987]\n[ 0.25786544  0.20587097  0.19454716  0.92336181 -0.16693919]\n[-2.21508078 -0.60816955  0.05115197  0.23442423  1.18095328]\n[-0.90859864 -0.01649446 -0.06528711  0.44718734  1.86489787]\n[-0.92592447 -2.00932619 -0.26899343  1.17737674 -0.32689958]\n[-0.26698622  0.65782121 -0.2955302  -0.05783826  0.29141204]\n[-0.34288453  0.35390732 -0.34368584  0.73936179 -0.61732779]\n[ 0.5217896  -0.28318206 -0.39680371 -0.65853426  0.18606447]\n[ 0.31761404 -0.12153167 -0.45373165 -0.51448391  0.16185902]\n[-0.61790429  1.31444445 -0.56087867 -0.48127062  1.09391289]\n[-0.96195632  0.04413108 -0.82185381 -1.65307578  1.42096116]\n[ 0.97338747  1.25391216 -0.82524442  1.36828334 -0.14422795]\n[ 0.65606591 -0.60047914 -1.27269156  0.63401135  1.23032728]\n[-0.42556079  0.21136288 -1.41067893  0.42227283 -0.53443289]\n"
    }
   ],
   "source": [
    "# ソート\n",
    "A = np.random.randn(2, 5)\n",
    "print(A)\n",
    "# sort\n",
    "print(f\"普通に行ごとにソート:\\n{np.sort(A)}\")\n",
    "# argsortは各行でソートした結果の各要素順番を返す\n",
    "sorted = np.argsort(A)\n",
    "print(f\"argsort 行ごとにソート:\\n{sorted}\")\n",
    "# 特定の列の値をソート axis=0で列ごと、axis=1で行ごとにソート\n",
    "sorted = np.argsort(A, axis=0)\n",
    "print(f\"argsort 列ごとにソート:\\n{sorted}\")\n",
    "\n",
    "# argsortは3-practiceで使われている。以下その使われ方的な\n",
    "A = np.random.randn(20, 5)\n",
    "print(f\"A:\\n{A}\")\n",
    "# 2列目を取り出して降順にソート→インデックスが返される\n",
    "inds = np.argsort(A[:, 2])[::-1]\n",
    "print(f\"inds:\\n{inds}\")\n",
    "print(\"sorted by col=2\")\n",
    "for ind in inds:\n",
    "    # 2列目が降順で表示される\n",
    "    print(A[ind])\n",
    "# インデックスでソートすると、何かと柔軟に使える。"
   ]
  },
  {
   "cell_type": "code",
   "execution_count": 15,
   "metadata": {
    "tags": []
   },
   "outputs": [
    {
     "output_type": "stream",
     "name": "stdout",
     "text": "[0 1 2 3 4 5 6 7 8 9]\n[[0 1 2 3 4]\n [5 6 7 8 9]]\n"
    }
   ],
   "source": [
    "# 行列のサイズ変換\n",
    "X = np.arange(10)\n",
    "print(X)\n",
    "X_reshape = X.reshape(2, 5)\n",
    "print(X_reshape)"
   ]
  },
  {
   "cell_type": "code",
   "execution_count": 16,
   "metadata": {},
   "outputs": [
    {
     "output_type": "execute_result",
     "data": {
      "text/plain": "array([0, 1, 2, 3, 4, 5, 6, 7, 8, 9])"
     },
     "metadata": {},
     "execution_count": 16
    }
   ],
   "source": [
    "# 2*5行列を1次元の行列に戻す\n",
    "X_reshape.ravel()"
   ]
  },
  {
   "cell_type": "code",
   "execution_count": 17,
   "metadata": {
    "tags": []
   },
   "outputs": [
    {
     "output_type": "stream",
     "name": "stdout",
     "text": "[[14 14]\n [32 32]]\n"
    }
   ],
   "source": [
    "# 内積の計算\n",
    "A = np.array([[1, 2, 3],\n",
    "              [4, 5, 6]])\n",
    "B = np.array([[1, 1],\n",
    "              [2, 2],\n",
    "              [3, 3]])\n",
    "print(A.dot(B))"
   ]
  },
  {
   "cell_type": "code",
   "execution_count": 18,
   "metadata": {
    "tags": []
   },
   "outputs": [
    {
     "output_type": "stream",
     "name": "stdout",
     "text": "[[1 2 3]\n [4 5 6]]\n[[1 4]\n [2 5]\n [3 6]]\n"
    }
   ],
   "source": [
    "# 転置行列\n",
    "print(A)\n",
    "print(A.T)"
   ]
  },
  {
   "cell_type": "code",
   "execution_count": 19,
   "metadata": {
    "tags": []
   },
   "outputs": [
    {
     "output_type": "stream",
     "name": "stdout",
     "text": "[0 1 2 3 4 5 6 7 8 9]\n[0 1 2 3 4]\n[5 6 7 8 9]\n[2 3 4]\n[0 2 4 6 8]\n[9 8 7 6 5 4 3 2 1 0]\n"
    }
   ],
   "source": [
    "# スライシング: 要素の一部をまとめて表す\n",
    "X = np.arange(10)\n",
    "print(X)\n",
    "# 0から5-1まで\n",
    "print(X[:5])\n",
    "# 5から最後まで\n",
    "print(X[5:])\n",
    "# 2から5-1まで\n",
    "print(X[2:5])\n",
    "# 0から最後まで、2刻みで\n",
    "print(X[::2])\n",
    "# 逆順に並び替え\n",
    "print(X[::-1])"
   ]
  },
  {
   "cell_type": "code",
   "execution_count": 20,
   "metadata": {
    "tags": []
   },
   "outputs": [
    {
     "output_type": "stream",
     "name": "stdout",
     "text": "[3 6]\n[4 5 6]\n"
    }
   ],
   "source": [
    "# 多次元のスライシング\n",
    "A = np.array([[1, 2, 3],\n",
    "              [4, 5, 6]])\n",
    "# 3列目だけを取り出す [行, 列]で指定\n",
    "print(A[:, 2])\n",
    "# 2列目だけを取り出す A[1]と同じ\n",
    "print(A[1, :])"
   ]
  },
  {
   "cell_type": "code",
   "execution_count": 21,
   "metadata": {},
   "outputs": [
    {
     "output_type": "execute_result",
     "data": {
      "text/plain": "array([False, False, False, False,  True,  True,  True])"
     },
     "metadata": {},
     "execution_count": 21
    }
   ],
   "source": [
    "# 条件を満たすデータの書き換え\n",
    "X = np.array([1, 1, 2, 3, 5, 6, 7])\n",
    "X > 3"
   ]
  },
  {
   "cell_type": "code",
   "execution_count": 22,
   "metadata": {},
   "outputs": [
    {
     "output_type": "execute_result",
     "data": {
      "text/plain": "array([5, 6, 7])"
     },
     "metadata": {},
     "execution_count": 22
    }
   ],
   "source": [
    "X[X > 3]"
   ]
  },
  {
   "cell_type": "code",
   "execution_count": 23,
   "metadata": {
    "tags": []
   },
   "outputs": [
    {
     "output_type": "stream",
     "name": "stdout",
     "text": "[False False False False  True  True  True]\n[0 1 2 3 4 5 6]\n[4 5 6]\n"
    }
   ],
   "source": [
    "# マスクを作って他の配列に適用できる\n",
    "mask = X > 3\n",
    "print(mask)\n",
    "A = np.arange(7)\n",
    "print(A)\n",
    "print(A[mask])"
   ]
  }
 ]
}