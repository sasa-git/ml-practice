{
 "metadata": {
  "language_info": {
   "codemirror_mode": {
    "name": "ipython",
    "version": 3
   },
   "file_extension": ".py",
   "mimetype": "text/x-python",
   "name": "python",
   "nbconvert_exporter": "python",
   "pygments_lexer": "ipython3",
   "version": "3.7.6-final"
  },
  "orig_nbformat": 2,
  "kernelspec": {
   "name": "python_defaultSpec_1599203770891",
   "display_name": "Python 3.7.6 64-bit ('venv': venv)"
  }
 },
 "nbformat": 4,
 "nbformat_minor": 2,
 "cells": [
  {
   "cell_type": "code",
   "execution_count": 1,
   "metadata": {},
   "outputs": [],
   "source": [
    "# 独自Estimatorの構築 P.356\n",
    "from sklearn.base import BaseEstimator, TransformerMixin\n",
    "\n",
    "class MyTransformer(BaseEstimator, TransformerMixin):\n",
    "    def __init__(self, first_parameter=1, second_parameter=2):\n",
    "        # 全てのパラメータを__init__メソッドで指定すること\n",
    "        self.first_parameter = 1\n",
    "        self.second_parameter = 2\n",
    "\n",
    "    def fit(self, X, y=None):\n",
    "        # fitはXとyだけを引数とする\n",
    "        # モデルが教師なしであっても、引数yを受け付ける必要がある!\n",
    "\n",
    "        # モデルの学習をここで行う\n",
    "        print(\"fitting the model right here\")\n",
    "        # fitはselfを返す\n",
    "        return self\n",
    "    \n",
    "    def transform(self, X):\n",
    "        # transformは引数Xだけを受け取る\n",
    "\n",
    "        # Xに対して変換を行う\n",
    "        X_transformed = X + 1\n",
    "        return X_transformed"
   ]
  },
  {
   "cell_type": "code",
   "execution_count": null,
   "metadata": {},
   "outputs": [],
   "source": []
  }
 ]
}